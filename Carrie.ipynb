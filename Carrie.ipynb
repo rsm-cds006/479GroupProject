{
 "cells": [
  {
   "cell_type": "code",
   "execution_count": 12,
   "metadata": {},
   "outputs": [],
   "source": [
    "import pandas as pd\n",
    "import numpy as np\n",
    "import matplotlib.pyplot as plt\n",
    "from mpl_toolkits.mplot3d import Axes3D"
   ]
  },
  {
   "cell_type": "code",
   "execution_count": 6,
   "metadata": {},
   "outputs": [
    {
     "data": {
      "text/html": [
       "<div>\n",
       "<style scoped>\n",
       "    .dataframe tbody tr th:only-of-type {\n",
       "        vertical-align: middle;\n",
       "    }\n",
       "\n",
       "    .dataframe tbody tr th {\n",
       "        vertical-align: top;\n",
       "    }\n",
       "\n",
       "    .dataframe thead th {\n",
       "        text-align: right;\n",
       "    }\n",
       "</style>\n",
       "<table border=\"1\" class=\"dataframe\">\n",
       "  <thead>\n",
       "    <tr style=\"text-align: right;\">\n",
       "      <th></th>\n",
       "      <th>Unnamed: 0</th>\n",
       "      <th>Date</th>\n",
       "      <th>AveragePrice</th>\n",
       "      <th>Total Volume</th>\n",
       "      <th>4046</th>\n",
       "      <th>4225</th>\n",
       "      <th>4770</th>\n",
       "      <th>Total Bags</th>\n",
       "      <th>Small Bags</th>\n",
       "      <th>Large Bags</th>\n",
       "      <th>XLarge Bags</th>\n",
       "      <th>type</th>\n",
       "      <th>year</th>\n",
       "      <th>region</th>\n",
       "    </tr>\n",
       "  </thead>\n",
       "  <tbody>\n",
       "    <tr>\n",
       "      <th>0</th>\n",
       "      <td>0</td>\n",
       "      <td>2015-12-27</td>\n",
       "      <td>1.33</td>\n",
       "      <td>64236.62</td>\n",
       "      <td>1036.74</td>\n",
       "      <td>54454.85</td>\n",
       "      <td>48.16</td>\n",
       "      <td>8696.87</td>\n",
       "      <td>8603.62</td>\n",
       "      <td>93.25</td>\n",
       "      <td>0.0</td>\n",
       "      <td>conventional</td>\n",
       "      <td>2015</td>\n",
       "      <td>Albany</td>\n",
       "    </tr>\n",
       "    <tr>\n",
       "      <th>1</th>\n",
       "      <td>1</td>\n",
       "      <td>2015-12-20</td>\n",
       "      <td>1.35</td>\n",
       "      <td>54876.98</td>\n",
       "      <td>674.28</td>\n",
       "      <td>44638.81</td>\n",
       "      <td>58.33</td>\n",
       "      <td>9505.56</td>\n",
       "      <td>9408.07</td>\n",
       "      <td>97.49</td>\n",
       "      <td>0.0</td>\n",
       "      <td>conventional</td>\n",
       "      <td>2015</td>\n",
       "      <td>Albany</td>\n",
       "    </tr>\n",
       "    <tr>\n",
       "      <th>2</th>\n",
       "      <td>2</td>\n",
       "      <td>2015-12-13</td>\n",
       "      <td>0.93</td>\n",
       "      <td>118220.22</td>\n",
       "      <td>794.70</td>\n",
       "      <td>109149.67</td>\n",
       "      <td>130.50</td>\n",
       "      <td>8145.35</td>\n",
       "      <td>8042.21</td>\n",
       "      <td>103.14</td>\n",
       "      <td>0.0</td>\n",
       "      <td>conventional</td>\n",
       "      <td>2015</td>\n",
       "      <td>Albany</td>\n",
       "    </tr>\n",
       "    <tr>\n",
       "      <th>3</th>\n",
       "      <td>3</td>\n",
       "      <td>2015-12-06</td>\n",
       "      <td>1.08</td>\n",
       "      <td>78992.15</td>\n",
       "      <td>1132.00</td>\n",
       "      <td>71976.41</td>\n",
       "      <td>72.58</td>\n",
       "      <td>5811.16</td>\n",
       "      <td>5677.40</td>\n",
       "      <td>133.76</td>\n",
       "      <td>0.0</td>\n",
       "      <td>conventional</td>\n",
       "      <td>2015</td>\n",
       "      <td>Albany</td>\n",
       "    </tr>\n",
       "    <tr>\n",
       "      <th>4</th>\n",
       "      <td>4</td>\n",
       "      <td>2015-11-29</td>\n",
       "      <td>1.28</td>\n",
       "      <td>51039.60</td>\n",
       "      <td>941.48</td>\n",
       "      <td>43838.39</td>\n",
       "      <td>75.78</td>\n",
       "      <td>6183.95</td>\n",
       "      <td>5986.26</td>\n",
       "      <td>197.69</td>\n",
       "      <td>0.0</td>\n",
       "      <td>conventional</td>\n",
       "      <td>2015</td>\n",
       "      <td>Albany</td>\n",
       "    </tr>\n",
       "    <tr>\n",
       "      <th>5</th>\n",
       "      <td>5</td>\n",
       "      <td>2015-11-22</td>\n",
       "      <td>1.26</td>\n",
       "      <td>55979.78</td>\n",
       "      <td>1184.27</td>\n",
       "      <td>48067.99</td>\n",
       "      <td>43.61</td>\n",
       "      <td>6683.91</td>\n",
       "      <td>6556.47</td>\n",
       "      <td>127.44</td>\n",
       "      <td>0.0</td>\n",
       "      <td>conventional</td>\n",
       "      <td>2015</td>\n",
       "      <td>Albany</td>\n",
       "    </tr>\n",
       "    <tr>\n",
       "      <th>6</th>\n",
       "      <td>6</td>\n",
       "      <td>2015-11-15</td>\n",
       "      <td>0.99</td>\n",
       "      <td>83453.76</td>\n",
       "      <td>1368.92</td>\n",
       "      <td>73672.72</td>\n",
       "      <td>93.26</td>\n",
       "      <td>8318.86</td>\n",
       "      <td>8196.81</td>\n",
       "      <td>122.05</td>\n",
       "      <td>0.0</td>\n",
       "      <td>conventional</td>\n",
       "      <td>2015</td>\n",
       "      <td>Albany</td>\n",
       "    </tr>\n",
       "    <tr>\n",
       "      <th>7</th>\n",
       "      <td>7</td>\n",
       "      <td>2015-11-08</td>\n",
       "      <td>0.98</td>\n",
       "      <td>109428.33</td>\n",
       "      <td>703.75</td>\n",
       "      <td>101815.36</td>\n",
       "      <td>80.00</td>\n",
       "      <td>6829.22</td>\n",
       "      <td>6266.85</td>\n",
       "      <td>562.37</td>\n",
       "      <td>0.0</td>\n",
       "      <td>conventional</td>\n",
       "      <td>2015</td>\n",
       "      <td>Albany</td>\n",
       "    </tr>\n",
       "    <tr>\n",
       "      <th>8</th>\n",
       "      <td>8</td>\n",
       "      <td>2015-11-01</td>\n",
       "      <td>1.02</td>\n",
       "      <td>99811.42</td>\n",
       "      <td>1022.15</td>\n",
       "      <td>87315.57</td>\n",
       "      <td>85.34</td>\n",
       "      <td>11388.36</td>\n",
       "      <td>11104.53</td>\n",
       "      <td>283.83</td>\n",
       "      <td>0.0</td>\n",
       "      <td>conventional</td>\n",
       "      <td>2015</td>\n",
       "      <td>Albany</td>\n",
       "    </tr>\n",
       "    <tr>\n",
       "      <th>9</th>\n",
       "      <td>9</td>\n",
       "      <td>2015-10-25</td>\n",
       "      <td>1.07</td>\n",
       "      <td>74338.76</td>\n",
       "      <td>842.40</td>\n",
       "      <td>64757.44</td>\n",
       "      <td>113.00</td>\n",
       "      <td>8625.92</td>\n",
       "      <td>8061.47</td>\n",
       "      <td>564.45</td>\n",
       "      <td>0.0</td>\n",
       "      <td>conventional</td>\n",
       "      <td>2015</td>\n",
       "      <td>Albany</td>\n",
       "    </tr>\n",
       "  </tbody>\n",
       "</table>\n",
       "</div>"
      ],
      "text/plain": [
       "   Unnamed: 0        Date  AveragePrice  Total Volume     4046       4225  \\\n",
       "0           0  2015-12-27          1.33      64236.62  1036.74   54454.85   \n",
       "1           1  2015-12-20          1.35      54876.98   674.28   44638.81   \n",
       "2           2  2015-12-13          0.93     118220.22   794.70  109149.67   \n",
       "3           3  2015-12-06          1.08      78992.15  1132.00   71976.41   \n",
       "4           4  2015-11-29          1.28      51039.60   941.48   43838.39   \n",
       "5           5  2015-11-22          1.26      55979.78  1184.27   48067.99   \n",
       "6           6  2015-11-15          0.99      83453.76  1368.92   73672.72   \n",
       "7           7  2015-11-08          0.98     109428.33   703.75  101815.36   \n",
       "8           8  2015-11-01          1.02      99811.42  1022.15   87315.57   \n",
       "9           9  2015-10-25          1.07      74338.76   842.40   64757.44   \n",
       "\n",
       "     4770  Total Bags  Small Bags  Large Bags  XLarge Bags          type  \\\n",
       "0   48.16     8696.87     8603.62       93.25          0.0  conventional   \n",
       "1   58.33     9505.56     9408.07       97.49          0.0  conventional   \n",
       "2  130.50     8145.35     8042.21      103.14          0.0  conventional   \n",
       "3   72.58     5811.16     5677.40      133.76          0.0  conventional   \n",
       "4   75.78     6183.95     5986.26      197.69          0.0  conventional   \n",
       "5   43.61     6683.91     6556.47      127.44          0.0  conventional   \n",
       "6   93.26     8318.86     8196.81      122.05          0.0  conventional   \n",
       "7   80.00     6829.22     6266.85      562.37          0.0  conventional   \n",
       "8   85.34    11388.36    11104.53      283.83          0.0  conventional   \n",
       "9  113.00     8625.92     8061.47      564.45          0.0  conventional   \n",
       "\n",
       "   year  region  \n",
       "0  2015  Albany  \n",
       "1  2015  Albany  \n",
       "2  2015  Albany  \n",
       "3  2015  Albany  \n",
       "4  2015  Albany  \n",
       "5  2015  Albany  \n",
       "6  2015  Albany  \n",
       "7  2015  Albany  \n",
       "8  2015  Albany  \n",
       "9  2015  Albany  "
      ]
     },
     "execution_count": 6,
     "metadata": {},
     "output_type": "execute_result"
    }
   ],
   "source": [
    "avocado_df = pd.read_csv(\"data/avocado.csv\")\n",
    "avocado_df.head(10)"
   ]
  },
  {
   "cell_type": "code",
   "execution_count": 13,
   "metadata": {},
   "outputs": [
    {
     "data": {
      "image/png": "[encoded data removed]",
      "text/plain": [
       "<Figure size 1000x800 with 2 Axes>"
      ]
     },
     "metadata": {},
     "output_type": "display_data"
    }
   ],
   "source": [
    "# Convert 'Date' to datetime to extract the year if needed\n",
    "avocado_df['Date'] = pd.to_datetime(avocado_df['Date'])\n",
    "avocado_df['Year'] = avocado_df['Date'].dt.year\n",
    "\n",
    "# Preparing the 3D plot\n",
    "fig = plt.figure(figsize=(10, 8))\n",
    "ax = fig.add_subplot(111, projection='3d')\n",
    "\n",
    "# Plotting\n",
    "sc = ax.scatter(xs=avocado_df['Year'], ys=avocado_df['Total Volume'], zs=avocado_df['AveragePrice'], c=avocado_df['AveragePrice'], cmap='viridis')\n",
    "\n",
    "ax.set_xlabel('Year')\n",
    "ax.set_ylabel('Total Volume')\n",
    "ax.set_zlabel('Average Price')\n",
    "\n",
    "# Color bar which maps values to colors\n",
    "plt.colorbar(sc, label='Average Price')\n",
    "\n",
    "plt.title('3D Visualization of Avocado Prices and Sales Volume Over Years')\n",
    "plt.show()"
   ]
  },
  {
   "cell_type": "code",
   "execution_count": 15,
   "metadata": {},
   "outputs": [
    {
     "data": {
      "image/png": "[encoded data removed]",
      "text/plain": [
       "<Figure size 1000x800 with 2 Axes>"
      ]
     },
     "metadata": {},
     "output_type": "display_data"
    }
   ],
   "source": [
    "# Filtering the data to focus on a single type of avocado and summarizing by year\n",
    "filtered_df = avocado_df[avocado_df['type'] == 'conventional'].groupby('Year').agg({\n",
    "    'Total Bags': 'sum',\n",
    "    'AveragePrice': 'mean'\n",
    "}).reset_index()\n",
    "\n",
    "fig = plt.figure(figsize=(10, 8))\n",
    "ax = fig.add_subplot(111, projection='3d')\n",
    "\n",
    "# Using 'Total Bags' as Y, 'Year' as X, and 'AveragePrice' as Z\n",
    "sc = ax.scatter(xs=filtered_df['Year'], ys=filtered_df['Total Bags'], zs=filtered_df['AveragePrice'], c=filtered_df['AveragePrice'], cmap='cool')\n",
    "\n",
    "ax.set_xlabel('Year')\n",
    "ax.set_ylabel('Total Bags Sold')\n",
    "ax.set_zlabel('Average Price')\n",
    "\n",
    "plt.colorbar(sc, label='Average Price')\n",
    "\n",
    "plt.title('3D Visualization: Bag Sales and Avocado Prices Over Years')\n",
    "plt.show()"
   ]
  },
  {
   "cell_type": "markdown",
   "metadata": {},
   "source": [
    "creating map of us to show total sold in each region in the us"
   ]
  },
  {
   "cell_type": "code",
   "execution_count": 25,
   "metadata": {},
   "outputs": [
    {
     "data": {
      "text/html": [
       "<div>\n",
       "<style scoped>\n",
       "    .dataframe tbody tr th:only-of-type {\n",
       "        vertical-align: middle;\n",
       "    }\n",
       "\n",
       "    .dataframe tbody tr th {\n",
       "        vertical-align: top;\n",
       "    }\n",
       "\n",
       "    .dataframe thead th {\n",
       "        text-align: right;\n",
       "    }\n",
       "</style>\n",
       "<table border=\"1\" class=\"dataframe\">\n",
       "  <thead>\n",
       "    <tr style=\"text-align: right;\">\n",
       "      <th></th>\n",
       "      <th>region</th>\n",
       "      <th>AveragePrice</th>\n",
       "      <th>latitude</th>\n",
       "      <th>longitude</th>\n",
       "    </tr>\n",
       "  </thead>\n",
       "  <tbody>\n",
       "    <tr>\n",
       "      <th>0</th>\n",
       "      <td>Albany</td>\n",
       "      <td>1.561036</td>\n",
       "      <td>42.65258</td>\n",
       "      <td>-73.756233</td>\n",
       "    </tr>\n",
       "    <tr>\n",
       "      <th>1</th>\n",
       "      <td>Atlanta</td>\n",
       "      <td>1.337959</td>\n",
       "      <td>33.74880</td>\n",
       "      <td>-84.387700</td>\n",
       "    </tr>\n",
       "    <tr>\n",
       "      <th>2</th>\n",
       "      <td>BaltimoreWashington</td>\n",
       "      <td>1.534231</td>\n",
       "      <td>39.17760</td>\n",
       "      <td>-76.668400</td>\n",
       "    </tr>\n",
       "    <tr>\n",
       "      <th>3</th>\n",
       "      <td>Boise</td>\n",
       "      <td>1.348136</td>\n",
       "      <td>43.61500</td>\n",
       "      <td>-116.202300</td>\n",
       "    </tr>\n",
       "    <tr>\n",
       "      <th>4</th>\n",
       "      <td>Boston</td>\n",
       "      <td>1.530888</td>\n",
       "      <td>42.36010</td>\n",
       "      <td>-71.058900</td>\n",
       "    </tr>\n",
       "    <tr>\n",
       "      <th>5</th>\n",
       "      <td>BuffaloRochester</td>\n",
       "      <td>1.516834</td>\n",
       "      <td>43.02150</td>\n",
       "      <td>-78.243600</td>\n",
       "    </tr>\n",
       "    <tr>\n",
       "      <th>6</th>\n",
       "      <td>Charlotte</td>\n",
       "      <td>1.606036</td>\n",
       "      <td>35.22710</td>\n",
       "      <td>-80.843100</td>\n",
       "    </tr>\n",
       "    <tr>\n",
       "      <th>7</th>\n",
       "      <td>Chicago</td>\n",
       "      <td>1.556775</td>\n",
       "      <td>41.87810</td>\n",
       "      <td>-87.629800</td>\n",
       "    </tr>\n",
       "    <tr>\n",
       "      <th>8</th>\n",
       "      <td>CincinnatiDayton</td>\n",
       "      <td>1.209201</td>\n",
       "      <td>39.43100</td>\n",
       "      <td>-84.351800</td>\n",
       "    </tr>\n",
       "    <tr>\n",
       "      <th>9</th>\n",
       "      <td>Columbus</td>\n",
       "      <td>1.252781</td>\n",
       "      <td>39.96120</td>\n",
       "      <td>-82.998800</td>\n",
       "    </tr>\n",
       "    <tr>\n",
       "      <th>10</th>\n",
       "      <td>DallasFtWorth</td>\n",
       "      <td>1.085592</td>\n",
       "      <td>32.70790</td>\n",
       "      <td>-96.920900</td>\n",
       "    </tr>\n",
       "    <tr>\n",
       "      <th>11</th>\n",
       "      <td>Denver</td>\n",
       "      <td>1.218580</td>\n",
       "      <td>39.73920</td>\n",
       "      <td>-104.990300</td>\n",
       "    </tr>\n",
       "    <tr>\n",
       "      <th>12</th>\n",
       "      <td>Detroit</td>\n",
       "      <td>1.276095</td>\n",
       "      <td>42.33140</td>\n",
       "      <td>-83.045800</td>\n",
       "    </tr>\n",
       "    <tr>\n",
       "      <th>13</th>\n",
       "      <td>GrandRapids</td>\n",
       "      <td>1.505000</td>\n",
       "      <td>42.96340</td>\n",
       "      <td>-85.668100</td>\n",
       "    </tr>\n",
       "    <tr>\n",
       "      <th>14</th>\n",
       "      <td>HarrisburgScranton</td>\n",
       "      <td>1.513284</td>\n",
       "      <td>40.84110</td>\n",
       "      <td>-76.274600</td>\n",
       "    </tr>\n",
       "    <tr>\n",
       "      <th>15</th>\n",
       "      <td>HartfordSpringfield</td>\n",
       "      <td>1.818639</td>\n",
       "      <td>41.93250</td>\n",
       "      <td>-72.637700</td>\n",
       "    </tr>\n",
       "    <tr>\n",
       "      <th>16</th>\n",
       "      <td>Houston</td>\n",
       "      <td>1.047929</td>\n",
       "      <td>29.76040</td>\n",
       "      <td>-95.369800</td>\n",
       "    </tr>\n",
       "    <tr>\n",
       "      <th>17</th>\n",
       "      <td>Indianapolis</td>\n",
       "      <td>1.313994</td>\n",
       "      <td>39.76840</td>\n",
       "      <td>-86.158100</td>\n",
       "    </tr>\n",
       "    <tr>\n",
       "      <th>18</th>\n",
       "      <td>Jacksonville</td>\n",
       "      <td>1.510947</td>\n",
       "      <td>30.33220</td>\n",
       "      <td>-81.655700</td>\n",
       "    </tr>\n",
       "    <tr>\n",
       "      <th>19</th>\n",
       "      <td>LasVegas</td>\n",
       "      <td>1.380917</td>\n",
       "      <td>36.17160</td>\n",
       "      <td>-115.139100</td>\n",
       "    </tr>\n",
       "    <tr>\n",
       "      <th>20</th>\n",
       "      <td>LosAngeles</td>\n",
       "      <td>1.216006</td>\n",
       "      <td>34.05490</td>\n",
       "      <td>-118.242600</td>\n",
       "    </tr>\n",
       "    <tr>\n",
       "      <th>21</th>\n",
       "      <td>Louisville</td>\n",
       "      <td>1.286686</td>\n",
       "      <td>38.25270</td>\n",
       "      <td>-85.758500</td>\n",
       "    </tr>\n",
       "    <tr>\n",
       "      <th>22</th>\n",
       "      <td>MiamiFtLauderdale</td>\n",
       "      <td>1.428491</td>\n",
       "      <td>25.94210</td>\n",
       "      <td>-80.164600</td>\n",
       "    </tr>\n",
       "    <tr>\n",
       "      <th>23</th>\n",
       "      <td>Nashville</td>\n",
       "      <td>1.212101</td>\n",
       "      <td>36.16270</td>\n",
       "      <td>-86.781600</td>\n",
       "    </tr>\n",
       "    <tr>\n",
       "      <th>24</th>\n",
       "      <td>NewOrleansMobile</td>\n",
       "      <td>1.304793</td>\n",
       "      <td>30.32370</td>\n",
       "      <td>-89.055700</td>\n",
       "    </tr>\n",
       "    <tr>\n",
       "      <th>25</th>\n",
       "      <td>NewYork</td>\n",
       "      <td>1.727574</td>\n",
       "      <td>40.71280</td>\n",
       "      <td>-74.006000</td>\n",
       "    </tr>\n",
       "    <tr>\n",
       "      <th>26</th>\n",
       "      <td>Orlando</td>\n",
       "      <td>1.506213</td>\n",
       "      <td>28.53840</td>\n",
       "      <td>-81.378900</td>\n",
       "    </tr>\n",
       "    <tr>\n",
       "      <th>27</th>\n",
       "      <td>Philadelphia</td>\n",
       "      <td>1.632130</td>\n",
       "      <td>39.95260</td>\n",
       "      <td>-75.165200</td>\n",
       "    </tr>\n",
       "    <tr>\n",
       "      <th>28</th>\n",
       "      <td>PhoenixTucson</td>\n",
       "      <td>1.224438</td>\n",
       "      <td>32.85120</td>\n",
       "      <td>-111.524100</td>\n",
       "    </tr>\n",
       "    <tr>\n",
       "      <th>29</th>\n",
       "      <td>Pittsburgh</td>\n",
       "      <td>1.364320</td>\n",
       "      <td>40.44060</td>\n",
       "      <td>-79.995900</td>\n",
       "    </tr>\n",
       "    <tr>\n",
       "      <th>30</th>\n",
       "      <td>Portland</td>\n",
       "      <td>1.317722</td>\n",
       "      <td>45.51520</td>\n",
       "      <td>-122.678400</td>\n",
       "    </tr>\n",
       "    <tr>\n",
       "      <th>31</th>\n",
       "      <td>RaleighGreensboro</td>\n",
       "      <td>1.555118</td>\n",
       "      <td>35.92610</td>\n",
       "      <td>-79.215100</td>\n",
       "    </tr>\n",
       "    <tr>\n",
       "      <th>32</th>\n",
       "      <td>RichmondNorfolk</td>\n",
       "      <td>1.291331</td>\n",
       "      <td>37.19580</td>\n",
       "      <td>-76.861000</td>\n",
       "    </tr>\n",
       "    <tr>\n",
       "      <th>33</th>\n",
       "      <td>Roanoke</td>\n",
       "      <td>1.247929</td>\n",
       "      <td>37.27100</td>\n",
       "      <td>-79.941400</td>\n",
       "    </tr>\n",
       "    <tr>\n",
       "      <th>34</th>\n",
       "      <td>Sacramento</td>\n",
       "      <td>1.621568</td>\n",
       "      <td>38.58160</td>\n",
       "      <td>-121.494400</td>\n",
       "    </tr>\n",
       "    <tr>\n",
       "      <th>35</th>\n",
       "      <td>SanDiego</td>\n",
       "      <td>1.398166</td>\n",
       "      <td>32.71570</td>\n",
       "      <td>-117.161100</td>\n",
       "    </tr>\n",
       "    <tr>\n",
       "      <th>36</th>\n",
       "      <td>SanFrancisco</td>\n",
       "      <td>1.804201</td>\n",
       "      <td>37.77490</td>\n",
       "      <td>-122.419400</td>\n",
       "    </tr>\n",
       "    <tr>\n",
       "      <th>37</th>\n",
       "      <td>Seattle</td>\n",
       "      <td>1.442574</td>\n",
       "      <td>47.60610</td>\n",
       "      <td>-122.332800</td>\n",
       "    </tr>\n",
       "    <tr>\n",
       "      <th>38</th>\n",
       "      <td>SouthCarolina</td>\n",
       "      <td>1.403284</td>\n",
       "      <td>33.83610</td>\n",
       "      <td>-81.163700</td>\n",
       "    </tr>\n",
       "    <tr>\n",
       "      <th>39</th>\n",
       "      <td>Spokane</td>\n",
       "      <td>1.445592</td>\n",
       "      <td>47.65800</td>\n",
       "      <td>-117.423500</td>\n",
       "    </tr>\n",
       "    <tr>\n",
       "      <th>40</th>\n",
       "      <td>StLouis</td>\n",
       "      <td>1.430621</td>\n",
       "      <td>38.62700</td>\n",
       "      <td>-90.199400</td>\n",
       "    </tr>\n",
       "    <tr>\n",
       "      <th>41</th>\n",
       "      <td>Syracuse</td>\n",
       "      <td>1.520325</td>\n",
       "      <td>43.04810</td>\n",
       "      <td>-76.147400</td>\n",
       "    </tr>\n",
       "    <tr>\n",
       "      <th>42</th>\n",
       "      <td>Tampa</td>\n",
       "      <td>1.408846</td>\n",
       "      <td>27.95170</td>\n",
       "      <td>-82.458800</td>\n",
       "    </tr>\n",
       "    <tr>\n",
       "      <th>43</th>\n",
       "      <td>WestTexNewMexico</td>\n",
       "      <td>1.261701</td>\n",
       "      <td>33.03040</td>\n",
       "      <td>-106.254900</td>\n",
       "    </tr>\n",
       "  </tbody>\n",
       "</table>\n",
       "</div>"
      ],
      "text/plain": [
       "                 region  AveragePrice  latitude   longitude\n",
       "0                Albany      1.561036  42.65258  -73.756233\n",
       "1               Atlanta      1.337959  33.74880  -84.387700\n",
       "2   BaltimoreWashington      1.534231  39.17760  -76.668400\n",
       "3                 Boise      1.348136  43.61500 -116.202300\n",
       "4                Boston      1.530888  42.36010  -71.058900\n",
       "5      BuffaloRochester      1.516834  43.02150  -78.243600\n",
       "6             Charlotte      1.606036  35.22710  -80.843100\n",
       "7               Chicago      1.556775  41.87810  -87.629800\n",
       "8      CincinnatiDayton      1.209201  39.43100  -84.351800\n",
       "9              Columbus      1.252781  39.96120  -82.998800\n",
       "10        DallasFtWorth      1.085592  32.70790  -96.920900\n",
       "11               Denver      1.218580  39.73920 -104.990300\n",
       "12              Detroit      1.276095  42.33140  -83.045800\n",
       "13          GrandRapids      1.505000  42.96340  -85.668100\n",
       "14   HarrisburgScranton      1.513284  40.84110  -76.274600\n",
       "15  HartfordSpringfield      1.818639  41.93250  -72.637700\n",
       "16              Houston      1.047929  29.76040  -95.369800\n",
       "17         Indianapolis      1.313994  39.76840  -86.158100\n",
       "18         Jacksonville      1.510947  30.33220  -81.655700\n",
       "19             LasVegas      1.380917  36.17160 -115.139100\n",
       "20           LosAngeles      1.216006  34.05490 -118.242600\n",
       "21           Louisville      1.286686  38.25270  -85.758500\n",
       "22    MiamiFtLauderdale      1.428491  25.94210  -80.164600\n",
       "23            Nashville      1.212101  36.16270  -86.781600\n",
       "24     NewOrleansMobile      1.304793  30.32370  -89.055700\n",
       "25              NewYork      1.727574  40.71280  -74.006000\n",
       "26              Orlando      1.506213  28.53840  -81.378900\n",
       "27         Philadelphia      1.632130  39.95260  -75.165200\n",
       "28        PhoenixTucson      1.224438  32.85120 -111.524100\n",
       "29           Pittsburgh      1.364320  40.44060  -79.995900\n",
       "30             Portland      1.317722  45.51520 -122.678400\n",
       "31    RaleighGreensboro      1.555118  35.92610  -79.215100\n",
       "32      RichmondNorfolk      1.291331  37.19580  -76.861000\n",
       "33              Roanoke      1.247929  37.27100  -79.941400\n",
       "34           Sacramento      1.621568  38.58160 -121.494400\n",
       "35             SanDiego      1.398166  32.71570 -117.161100\n",
       "36         SanFrancisco      1.804201  37.77490 -122.419400\n",
       "37              Seattle      1.442574  47.60610 -122.332800\n",
       "38        SouthCarolina      1.403284  33.83610  -81.163700\n",
       "39              Spokane      1.445592  47.65800 -117.423500\n",
       "40              StLouis      1.430621  38.62700  -90.199400\n",
       "41             Syracuse      1.520325  43.04810  -76.147400\n",
       "42                Tampa      1.408846  27.95170  -82.458800\n",
       "43     WestTexNewMexico      1.261701  33.03040 -106.254900"
      ]
     },
     "execution_count": 25,
     "metadata": {},
     "output_type": "execute_result"
    }
   ],
   "source": [
    "# Step 1: Calculate the average of the average prices for avocados sold in each region.\n",
    "average_price_by_region = avocado_df.groupby('region')['AveragePrice'].mean().reset_index()\n",
    "\n",
    "# Step 2: Assign Geographical Coordinates:\n",
    "coordinates = {\n",
    "    'Albany': (42.652580, -73.756233),\n",
    "    'Atlanta': (33.7488, -84.3877),\n",
    "    'BaltimoreWashington': (39.1776, -76.6684),\n",
    "    'Boise': (43.6150, -116.2023),\n",
    "    'Boston': (42.3601, -71.0589),\n",
    "    'BuffaloRochester': (43.0215, -78.2436),\n",
    "    'Charlotte': (35.2271, -80.8431),\n",
    "    'Chicago': (41.8781, -87.6298),\n",
    "    'CincinnatiDayton': (39.431, -84.3518),\n",
    "    'Columbus': (39.9612, -82.9988),\n",
    "    'DallasFtWorth': (32.7079, -96.9209),\n",
    "    'Denver': (39.7392, -104.9903),\n",
    "    'Detroit': (42.3314, -83.0458),\n",
    "    'GrandRapids': (42.9634, -85.6681),\n",
    "    'HarrisburgScranton': (40.8411, -76.2746),\n",
    "    'HartfordSpringfield': (41.9325, -72.6377),\n",
    "    'Houston': (29.7604, -95.3698),\n",
    "    'Indianapolis': (39.7684, -86.1581),\n",
    "    'Jacksonville': (30.3322, -81.6557),\n",
    "    'LasVegas': (36.1716, -115.1391),\n",
    "    'LosAngeles': (34.0549, -118.2426),\n",
    "    'Louisville': (38.2527, -85.7585),\n",
    "    'MiamiFtLauderdale': (25.9421, -80.1646),\n",
    "    'Nashville': (36.1627, -86.7816),\n",
    "    'NewOrleansMobile': (30.3237, -89.0557),\n",
    "    'NewYork': (40.7128, -74.0060),\n",
    "    'Orlando': (28.5384, -81.3789),\n",
    "    'Philadelphia': (39.9526, -75.1652),\n",
    "    'PhoenixTucson': (32.8512, -111.5241),\n",
    "    'Pittsburgh': (40.4406, -79.9959),\n",
    "    'Portland': (45.5152, -122.6784),\n",
    "    'RaleighGreensboro': (35.9261, -79.2151),\n",
    "    'RichmondNorfolk': (37.1958, -76.8610),\n",
    "    'Roanoke': (37.2710, -79.9414),\n",
    "    'Sacramento': (38.5816, -121.4944), \n",
    "    'SanDiego': (32.7157, -117.1611),\n",
    "    'SanFrancisco': (37.7749, -122.4194),\n",
    "    'Seattle': (47.6061, -122.3328),\n",
    "    'SouthCarolina': (33.8361, -81.1637),\n",
    "    'Spokane': (47.6580, -117.4235),\n",
    "    'StLouis': (38.6270, -90.1994),\n",
    "    'Syracuse': (43.0481, -76.1474),\n",
    "    'Tampa': (27.9517, -82.4588),\n",
    "    'WestTexNewMexico': (33.0304, -106.2549)\n",
    "}\n",
    "\n",
    "# Create a new DataFrame with the coordinates\n",
    "coords_list = [{'region': region, 'latitude': coords[0], 'longitude': coords[1]}\n",
    "               for region, coords in coordinates.items()]\n",
    "coords_df = pd.DataFrame(coords_list)\n",
    "\n",
    "# Merge the total volume data with the coordinates\n",
    "merged_df = pd.merge(average_price_by_region, coords_df, on='region', how='inner')\n",
    "\n",
    "merged_df"
   ]
  },
  {
   "cell_type": "code",
   "execution_count": 26,
   "metadata": {},
   "outputs": [
    {
     "data": {
      "application/vnd.plotly.v1+json": {
       "config": {
        "plotlyServerURL": "https://plot.ly"
       },
       "data": [
        {
         "marker": {
          "color": [
           1.5610355029585798,
           1.337958579881657,
           1.5342307692307693,
           1.3481360946745562,
           1.5308875739644972,
           1.5168343195266274,
           1.60603550295858,
           1.5567751479289942,
           1.2092011834319527,
           1.2527810650887574,
           1.0855917159763313,
           1.2185798816568048,
           1.276094674556213,
           1.505,
           1.5132840236686391,
           1.818639053254438,
           1.0479289940828402,
           1.3139940828402368,
           1.5109467455621302,
           1.3809171597633136,
           1.2160059171597632,
           1.2866863905325443,
           1.428491124260355,
           1.2121005917159764,
           1.304792899408284,
           1.7275739644970414,
           1.5062130177514794,
           1.6321301775147927,
           1.2244378698224851,
           1.364319526627219,
           1.3177218934911241,
           1.5551183431952662,
           1.2913313609467456,
           1.2479289940828402,
           1.6215680473372782,
           1.3981656804733726,
           1.804201183431953,
           1.4425739644970414,
           1.403284023668639,
           1.4455917159763314,
           1.430621301775148,
           1.5203254437869822,
           1.4088461538461539,
           1.2617014925373136
          ],
          "colorscale": [
           [
            0,
            "#440154"
           ],
           [
            0.1111111111111111,
            "#482878"
           ],
           [
            0.2222222222222222,
            "#3e4989"
           ],
           [
            0.3333333333333333,
            "#31688e"
           ],
           [
            0.4444444444444444,
            "#26828e"
           ],
           [
            0.5555555555555556,
            "#1f9e89"
           ],
           [
            0.6666666666666666,
            "#35b779"
           ],
           [
            0.7777777777777778,
            "#6ece58"
           ],
           [
            0.8888888888888888,
            "#b5de2b"
           ],
           [
            1,
            "#fde725"
           ]
          ],
          "opacity": 0.8,
          "size": [
           15.610355029585799,
           13.379585798816569,
           15.342307692307692,
           13.481360946745562,
           15.308875739644972,
           15.168343195266274,
           16.0603550295858,
           15.567751479289942,
           12.092011834319527,
           12.527810650887574,
           10.855917159763314,
           12.185798816568047,
           12.76094674556213,
           15.049999999999999,
           15.132840236686391,
           18.18639053254438,
           10.479289940828401,
           13.139940828402368,
           15.109467455621301,
           13.809171597633137,
           12.160059171597632,
           12.866863905325443,
           14.28491124260355,
           12.121005917159763,
           13.04792899408284,
           17.275739644970415,
           15.062130177514794,
           16.321301775147926,
           12.244378698224851,
           13.64319526627219,
           13.177218934911242,
           15.551183431952662,
           12.913313609467457,
           12.479289940828401,
           16.21568047337278,
           13.981656804733726,
           18.042011834319528,
           14.425739644970415,
           14.03284023668639,
           14.455917159763313,
           14.306213017751478,
           15.203254437869822,
           14.088461538461539,
           12.617014925373136
          ]
         },
         "mode": "markers",
         "text": [
          "Albany",
          "Atlanta",
          "BaltimoreWashington",
          "Boise",
          "Boston",
          "BuffaloRochester",
          "Charlotte",
          "Chicago",
          "CincinnatiDayton",
          "Columbus",
          "DallasFtWorth",
          "Denver",
          "Detroit",
          "GrandRapids",
          "HarrisburgScranton",
          "HartfordSpringfield",
          "Houston",
          "Indianapolis",
          "Jacksonville",
          "LasVegas",
          "LosAngeles",
          "Louisville",
          "MiamiFtLauderdale",
          "Nashville",
          "NewOrleansMobile",
          "NewYork",
          "Orlando",
          "Philadelphia",
          "PhoenixTucson",
          "Pittsburgh",
          "Portland",
          "RaleighGreensboro",
          "RichmondNorfolk",
          "Roanoke",
          "Sacramento",
          "SanDiego",
          "SanFrancisco",
          "Seattle",
          "SouthCarolina",
          "Spokane",
          "StLouis",
          "Syracuse",
          "Tampa",
          "WestTexNewMexico"
         ],
         "type": "scatter3d",
         "x": [
          -73.756233,
          -84.3877,
          -76.6684,
          -116.2023,
          -71.0589,
          -78.2436,
          -80.8431,
          -87.6298,
          -84.3518,
          -82.9988,
          -96.9209,
          -104.9903,
          -83.0458,
          -85.6681,
          -76.2746,
          -72.6377,
          -95.3698,
          -86.1581,
          -81.6557,
          -115.1391,
          -118.2426,
          -85.7585,
          -80.1646,
          -86.7816,
          -89.0557,
          -74.006,
          -81.3789,
          -75.1652,
          -111.5241,
          -79.9959,
          -122.6784,
          -79.2151,
          -76.861,
          -79.9414,
          -121.4944,
          -117.1611,
          -122.4194,
          -122.3328,
          -81.1637,
          -117.4235,
          -90.1994,
          -76.1474,
          -82.4588,
          -106.2549
         ],
         "y": [
          42.65258,
          33.7488,
          39.1776,
          43.615,
          42.3601,
          43.0215,
          35.2271,
          41.8781,
          39.431,
          39.9612,
          32.7079,
          39.7392,
          42.3314,
          42.9634,
          40.8411,
          41.9325,
          29.7604,
          39.7684,
          30.3322,
          36.1716,
          34.0549,
          38.2527,
          25.9421,
          36.1627,
          30.3237,
          40.7128,
          28.5384,
          39.9526,
          32.8512,
          40.4406,
          45.5152,
          35.9261,
          37.1958,
          37.271,
          38.5816,
          32.7157,
          37.7749,
          47.6061,
          33.8361,
          47.658,
          38.627,
          43.0481,
          27.9517,
          33.0304
         ],
         "z": [
          1.5610355029585798,
          1.337958579881657,
          1.5342307692307693,
          1.3481360946745562,
          1.5308875739644972,
          1.5168343195266274,
          1.60603550295858,
          1.5567751479289942,
          1.2092011834319527,
          1.2527810650887574,
          1.0855917159763313,
          1.2185798816568048,
          1.276094674556213,
          1.505,
          1.5132840236686391,
          1.818639053254438,
          1.0479289940828402,
          1.3139940828402368,
          1.5109467455621302,
          1.3809171597633136,
          1.2160059171597632,
          1.2866863905325443,
          1.428491124260355,
          1.2121005917159764,
          1.304792899408284,
          1.7275739644970414,
          1.5062130177514794,
          1.6321301775147927,
          1.2244378698224851,
          1.364319526627219,
          1.3177218934911241,
          1.5551183431952662,
          1.2913313609467456,
          1.2479289940828402,
          1.6215680473372782,
          1.3981656804733726,
          1.804201183431953,
          1.4425739644970414,
          1.403284023668639,
          1.4455917159763314,
          1.430621301775148,
          1.5203254437869822,
          1.4088461538461539,
          1.2617014925373136
         ]
        }
       ],
       "layout": {
        "autosize": true,
        "scene": {
         "xaxis": {
          "title": {
           "text": "Longitude"
          }
         },
         "yaxis": {
          "title": {
           "text": "Latitude"
          }
         },
         "zaxis": {
          "title": {
           "text": "Average Price"
          }
         }
        },
        "template": {
         "data": {
          "bar": [
           {
            "error_x": {
             "color": "#2a3f5f"
            },
            "error_y": {
             "color": "#2a3f5f"
            },
            "marker": {
             "line": {
              "color": "#E5ECF6",
              "width": 0.5
             },
             "pattern": {
              "fillmode": "overlay",
              "size": 10,
              "solidity": 0.2
             }
            },
            "type": "bar"
           }
          ],
          "barpolar": [
           {
            "marker": {
             "line": {
              "color": "#E5ECF6",
              "width": 0.5
             },
             "pattern": {
              "fillmode": "overlay",
              "size": 10,
              "solidity": 0.2
             }
            },
            "type": "barpolar"
           }
          ],
          "carpet": [
           {
            "aaxis": {
             "endlinecolor": "#2a3f5f",
             "gridcolor": "white",
             "linecolor": "white",
             "minorgridcolor": "white",
             "startlinecolor": "#2a3f5f"
            },
            "baxis": {
             "endlinecolor": "#2a3f5f",
             "gridcolor": "white",
             "linecolor": "white",
             "minorgridcolor": "white",
             "startlinecolor": "#2a3f5f"
            },
            "type": "carpet"
           }
          ],
          "choropleth": [
           {
            "colorbar": {
             "outlinewidth": 0,
             "ticks": ""
            },
            "type": "choropleth"
           }
          ],
          "contour": [
           {
            "colorbar": {
             "outlinewidth": 0,
             "ticks": ""
            },
            "colorscale": [
             [
              0,
              "#0d0887"
             ],
             [
              0.1111111111111111,
              "#46039f"
             ],
             [
              0.2222222222222222,
              "#7201a8"
             ],
             [
              0.3333333333333333,
              "#9c179e"
             ],
             [
              0.4444444444444444,
              "#bd3786"
             ],
             [
              0.5555555555555556,
              "#d8576b"
             ],
             [
              0.6666666666666666,
              "#ed7953"
             ],
             [
              0.7777777777777778,
              "#fb9f3a"
             ],
             [
              0.8888888888888888,
              "#fdca26"
             ],
             [
              1,
              "#f0f921"
             ]
            ],
            "type": "contour"
           }
          ],
          "contourcarpet": [
           {
            "colorbar": {
             "outlinewidth": 0,
             "ticks": ""
            },
            "type": "contourcarpet"
           }
          ],
          "heatmap": [
           {
            "colorbar": {
             "outlinewidth": 0,
             "ticks": ""
            },
            "colorscale": [
             [
              0,
              "#0d0887"
             ],
             [
              0.1111111111111111,
              "#46039f"
             ],
             [
              0.2222222222222222,
              "#7201a8"
             ],
             [
              0.3333333333333333,
              "#9c179e"
             ],
             [
              0.4444444444444444,
              "#bd3786"
             ],
             [
              0.5555555555555556,
              "#d8576b"
             ],
             [
              0.6666666666666666,
              "#ed7953"
             ],
             [
              0.7777777777777778,
              "#fb9f3a"
             ],
             [
              0.8888888888888888,
              "#fdca26"
             ],
             [
              1,
              "#f0f921"
             ]
            ],
            "type": "heatmap"
           }
          ],
          "heatmapgl": [
           {
            "colorbar": {
             "outlinewidth": 0,
             "ticks": ""
            },
            "colorscale": [
             [
              0,
              "#0d0887"
             ],
             [
              0.1111111111111111,
              "#46039f"
             ],
             [
              0.2222222222222222,
              "#7201a8"
             ],
             [
              0.3333333333333333,
              "#9c179e"
             ],
             [
              0.4444444444444444,
              "#bd3786"
             ],
             [
              0.5555555555555556,
              "#d8576b"
             ],
             [
              0.6666666666666666,
              "#ed7953"
             ],
             [
              0.7777777777777778,
              "#fb9f3a"
             ],
             [
              0.8888888888888888,
              "#fdca26"
             ],
             [
              1,
              "#f0f921"
             ]
            ],
            "type": "heatmapgl"
           }
          ],
          "histogram": [
           {
            "marker": {
             "pattern": {
              "fillmode": "overlay",
              "size": 10,
              "solidity": 0.2
             }
            },
            "type": "histogram"
           }
          ],
          "histogram2d": [
           {
            "colorbar": {
             "outlinewidth": 0,
             "ticks": ""
            },
            "colorscale": [
             [
              0,
              "#0d0887"
             ],
             [
              0.1111111111111111,
              "#46039f"
             ],
             [
              0.2222222222222222,
              "#7201a8"
             ],
             [
              0.3333333333333333,
              "#9c179e"
             ],
             [
              0.4444444444444444,
              "#bd3786"
             ],
             [
              0.5555555555555556,
              "#d8576b"
             ],
             [
              0.6666666666666666,
              "#ed7953"
             ],
             [
              0.7777777777777778,
              "#fb9f3a"
             ],
             [
              0.8888888888888888,
              "#fdca26"
             ],
             [
              1,
              "#f0f921"
             ]
            ],
            "type": "histogram2d"
           }
          ],
          "histogram2dcontour": [
           {
            "colorbar": {
             "outlinewidth": 0,
             "ticks": ""
            },
            "colorscale": [
             [
              0,
              "#0d0887"
             ],
             [
              0.1111111111111111,
              "#46039f"
             ],
             [
              0.2222222222222222,
              "#7201a8"
             ],
             [
              0.3333333333333333,
              "#9c179e"
             ],
             [
              0.4444444444444444,
              "#bd3786"
             ],
             [
              0.5555555555555556,
              "#d8576b"
             ],
             [
              0.6666666666666666,
              "#ed7953"
             ],
             [
              0.7777777777777778,
              "#fb9f3a"
             ],
             [
              0.8888888888888888,
              "#fdca26"
             ],
             [
              1,
              "#f0f921"
             ]
            ],
            "type": "histogram2dcontour"
           }
          ],
          "mesh3d": [
           {
            "colorbar": {
             "outlinewidth": 0,
             "ticks": ""
            },
            "type": "mesh3d"
           }
          ],
          "parcoords": [
           {
            "line": {
             "colorbar": {
              "outlinewidth": 0,
              "ticks": ""
             }
            },
            "type": "parcoords"
           }
          ],
          "pie": [
           {
            "automargin": true,
            "type": "pie"
           }
          ],
          "scatter": [
           {
            "fillpattern": {
             "fillmode": "overlay",
             "size": 10,
             "solidity": 0.2
            },
            "type": "scatter"
           }
          ],
          "scatter3d": [
           {
            "line": {
             "colorbar": {
              "outlinewidth": 0,
              "ticks": ""
             }
            },
            "marker": {
             "colorbar": {
              "outlinewidth": 0,
              "ticks": ""
             }
            },
            "type": "scatter3d"
           }
          ],
          "scattercarpet": [
           {
            "marker": {
             "colorbar": {
              "outlinewidth": 0,
              "ticks": ""
             }
            },
            "type": "scattercarpet"
           }
          ],
          "scattergeo": [
           {
            "marker": {
             "colorbar": {
              "outlinewidth": 0,
              "ticks": ""
             }
            },
            "type": "scattergeo"
           }
          ],
          "scattergl": [
           {
            "marker": {
             "colorbar": {
              "outlinewidth": 0,
              "ticks": ""
             }
            },
            "type": "scattergl"
           }
          ],
          "scattermapbox": [
           {
            "marker": {
             "colorbar": {
              "outlinewidth": 0,
              "ticks": ""
             }
            },
            "type": "scattermapbox"
           }
          ],
          "scatterpolar": [
           {
            "marker": {
             "colorbar": {
              "outlinewidth": 0,
              "ticks": ""
             }
            },
            "type": "scatterpolar"
           }
          ],
          "scatterpolargl": [
           {
            "marker": {
             "colorbar": {
              "outlinewidth": 0,
              "ticks": ""
             }
            },
            "type": "scatterpolargl"
           }
          ],
          "scatterternary": [
           {
            "marker": {
             "colorbar": {
              "outlinewidth": 0,
              "ticks": ""
             }
            },
            "type": "scatterternary"
           }
          ],
          "surface": [
           {
            "colorbar": {
             "outlinewidth": 0,
             "ticks": ""
            },
            "colorscale": [
             [
              0,
              "#0d0887"
             ],
             [
              0.1111111111111111,
              "#46039f"
             ],
             [
              0.2222222222222222,
              "#7201a8"
             ],
             [
              0.3333333333333333,
              "#9c179e"
             ],
             [
              0.4444444444444444,
              "#bd3786"
             ],
             [
              0.5555555555555556,
              "#d8576b"
             ],
             [
              0.6666666666666666,
              "#ed7953"
             ],
             [
              0.7777777777777778,
              "#fb9f3a"
             ],
             [
              0.8888888888888888,
              "#fdca26"
             ],
             [
              1,
              "#f0f921"
             ]
            ],
            "type": "surface"
           }
          ],
          "table": [
           {
            "cells": {
             "fill": {
              "color": "#EBF0F8"
             },
             "line": {
              "color": "white"
             }
            },
            "header": {
             "fill": {
              "color": "#C8D4E3"
             },
             "line": {
              "color": "white"
             }
            },
            "type": "table"
           }
          ]
         },
         "layout": {
          "annotationdefaults": {
           "arrowcolor": "#2a3f5f",
           "arrowhead": 0,
           "arrowwidth": 1
          },
          "autotypenumbers": "strict",
          "coloraxis": {
           "colorbar": {
            "outlinewidth": 0,
            "ticks": ""
           }
          },
          "colorscale": {
           "diverging": [
            [
             0,
             "#8e0152"
            ],
            [
             0.1,
             "#c51b7d"
            ],
            [
             0.2,
             "#de77ae"
            ],
            [
             0.3,
             "#f1b6da"
            ],
            [
             0.4,
             "#fde0ef"
            ],
            [
             0.5,
             "#f7f7f7"
            ],
            [
             0.6,
             "#e6f5d0"
            ],
            [
             0.7,
             "#b8e186"
            ],
            [
             0.8,
             "#7fbc41"
            ],
            [
             0.9,
             "#4d9221"
            ],
            [
             1,
             "#276419"
            ]
           ],
           "sequential": [
            [
             0,
             "#0d0887"
            ],
            [
             0.1111111111111111,
             "#46039f"
            ],
            [
             0.2222222222222222,
             "#7201a8"
            ],
            [
             0.3333333333333333,
             "#9c179e"
            ],
            [
             0.4444444444444444,
             "#bd3786"
            ],
            [
             0.5555555555555556,
             "#d8576b"
            ],
            [
             0.6666666666666666,
             "#ed7953"
            ],
            [
             0.7777777777777778,
             "#fb9f3a"
            ],
            [
             0.8888888888888888,
             "#fdca26"
            ],
            [
             1,
             "#f0f921"
            ]
           ],
           "sequentialminus": [
            [
             0,
             "#0d0887"
            ],
            [
             0.1111111111111111,
             "#46039f"
            ],
            [
             0.2222222222222222,
             "#7201a8"
            ],
            [
             0.3333333333333333,
             "#9c179e"
            ],
            [
             0.4444444444444444,
             "#bd3786"
            ],
            [
             0.5555555555555556,
             "#d8576b"
            ],
            [
             0.6666666666666666,
             "#ed7953"
            ],
            [
             0.7777777777777778,
             "#fb9f3a"
            ],
            [
             0.8888888888888888,
             "#fdca26"
            ],
            [
             1,
             "#f0f921"
            ]
           ]
          },
          "colorway": [
           "#636efa",
           "#EF553B",
           "#00cc96",
           "#ab63fa",
           "#FFA15A",
           "#19d3f3",
           "#FF6692",
           "#B6E880",
           "#FF97FF",
           "#FECB52"
          ],
          "font": {
           "color": "#2a3f5f"
          },
          "geo": {
           "bgcolor": "white",
           "lakecolor": "white",
           "landcolor": "#E5ECF6",
           "showlakes": true,
           "showland": true,
           "subunitcolor": "white"
          },
          "hoverlabel": {
           "align": "left"
          },
          "hovermode": "closest",
          "mapbox": {
           "style": "light"
          },
          "paper_bgcolor": "white",
          "plot_bgcolor": "#E5ECF6",
          "polar": {
           "angularaxis": {
            "gridcolor": "white",
            "linecolor": "white",
            "ticks": ""
           },
           "bgcolor": "#E5ECF6",
           "radialaxis": {
            "gridcolor": "white",
            "linecolor": "white",
            "ticks": ""
           }
          },
          "scene": {
           "xaxis": {
            "backgroundcolor": "#E5ECF6",
            "gridcolor": "white",
            "gridwidth": 2,
            "linecolor": "white",
            "showbackground": true,
            "ticks": "",
            "zerolinecolor": "white"
           },
           "yaxis": {
            "backgroundcolor": "#E5ECF6",
            "gridcolor": "white",
            "gridwidth": 2,
            "linecolor": "white",
            "showbackground": true,
            "ticks": "",
            "zerolinecolor": "white"
           },
           "zaxis": {
            "backgroundcolor": "#E5ECF6",
            "gridcolor": "white",
            "gridwidth": 2,
            "linecolor": "white",
            "showbackground": true,
            "ticks": "",
            "zerolinecolor": "white"
           }
          },
          "shapedefaults": {
           "line": {
            "color": "#2a3f5f"
           }
          },
          "ternary": {
           "aaxis": {
            "gridcolor": "white",
            "linecolor": "white",
            "ticks": ""
           },
           "baxis": {
            "gridcolor": "white",
            "linecolor": "white",
            "ticks": ""
           },
           "bgcolor": "#E5ECF6",
           "caxis": {
            "gridcolor": "white",
            "linecolor": "white",
            "ticks": ""
           }
          },
          "title": {
           "x": 0.05
          },
          "xaxis": {
           "automargin": true,
           "gridcolor": "white",
           "linecolor": "white",
           "ticks": "",
           "title": {
            "standoff": 15
           },
           "zerolinecolor": "white",
           "zerolinewidth": 2
          },
          "yaxis": {
           "automargin": true,
           "gridcolor": "white",
           "linecolor": "white",
           "ticks": "",
           "title": {
            "standoff": 15
           },
           "zerolinecolor": "white",
           "zerolinewidth": 2
          }
         }
        },
        "title": {
         "text": "3D Map of Average Avocado Profit by Selected US Regions"
        }
       }
      },
      "text/html": [
       "<div>                            <div id=\"e38745c7-afe0-4efa-afa2-8039177015d7\" class=\"plotly-graph-div\" style=\"height:525px; width:100%;\"></div>            <script type=\"text/javascript\">                require([\"plotly\"], function(Plotly) {                    window.PLOTLYENV=window.PLOTLYENV || {};                                    if (document.getElementById(\"e38745c7-afe0-4efa-afa2-8039177015d7\")) {                    Plotly.newPlot(                        \"e38745c7-afe0-4efa-afa2-8039177015d7\",                        [{\"marker\":{\"color\":[1.5610355029585798,1.337958579881657,1.5342307692307693,1.3481360946745562,1.5308875739644972,1.5168343195266274,1.60603550295858,1.5567751479289942,1.2092011834319527,1.2527810650887574,1.0855917159763313,1.2185798816568048,1.276094674556213,1.505,1.5132840236686391,1.818639053254438,1.0479289940828402,1.3139940828402368,1.5109467455621302,1.3809171597633136,1.2160059171597632,1.2866863905325443,1.428491124260355,1.2121005917159764,1.304792899408284,1.7275739644970414,1.5062130177514794,1.6321301775147927,1.2244378698224851,1.364319526627219,1.3177218934911241,1.5551183431952662,1.2913313609467456,1.2479289940828402,1.6215680473372782,1.3981656804733726,1.804201183431953,1.4425739644970414,1.403284023668639,1.4455917159763314,1.430621301775148,1.5203254437869822,1.4088461538461539,1.2617014925373136],\"colorscale\":[[0.0,\"#440154\"],[0.1111111111111111,\"#482878\"],[0.2222222222222222,\"#3e4989\"],[0.3333333333333333,\"#31688e\"],[0.4444444444444444,\"#26828e\"],[0.5555555555555556,\"#1f9e89\"],[0.6666666666666666,\"#35b779\"],[0.7777777777777778,\"#6ece58\"],[0.8888888888888888,\"#b5de2b\"],[1.0,\"#fde725\"]],\"opacity\":0.8,\"size\":[15.610355029585799,13.379585798816569,15.342307692307692,13.481360946745562,15.308875739644972,15.168343195266274,16.0603550295858,15.567751479289942,12.092011834319527,12.527810650887574,10.855917159763314,12.185798816568047,12.76094674556213,15.049999999999999,15.132840236686391,18.18639053254438,10.479289940828401,13.139940828402368,15.109467455621301,13.809171597633137,12.160059171597632,12.866863905325443,14.28491124260355,12.121005917159763,13.04792899408284,17.275739644970415,15.062130177514794,16.321301775147926,12.244378698224851,13.64319526627219,13.177218934911242,15.551183431952662,12.913313609467457,12.479289940828401,16.21568047337278,13.981656804733726,18.042011834319528,14.425739644970415,14.03284023668639,14.455917159763313,14.306213017751478,15.203254437869822,14.088461538461539,12.617014925373136]},\"mode\":\"markers\",\"text\":[\"Albany\",\"Atlanta\",\"BaltimoreWashington\",\"Boise\",\"Boston\",\"BuffaloRochester\",\"Charlotte\",\"Chicago\",\"CincinnatiDayton\",\"Columbus\",\"DallasFtWorth\",\"Denver\",\"Detroit\",\"GrandRapids\",\"HarrisburgScranton\",\"HartfordSpringfield\",\"Houston\",\"Indianapolis\",\"Jacksonville\",\"LasVegas\",\"LosAngeles\",\"Louisville\",\"MiamiFtLauderdale\",\"Nashville\",\"NewOrleansMobile\",\"NewYork\",\"Orlando\",\"Philadelphia\",\"PhoenixTucson\",\"Pittsburgh\",\"Portland\",\"RaleighGreensboro\",\"RichmondNorfolk\",\"Roanoke\",\"Sacramento\",\"SanDiego\",\"SanFrancisco\",\"Seattle\",\"SouthCarolina\",\"Spokane\",\"StLouis\",\"Syracuse\",\"Tampa\",\"WestTexNewMexico\"],\"x\":[-73.756233,-84.3877,-76.6684,-116.2023,-71.0589,-78.2436,-80.8431,-87.6298,-84.3518,-82.9988,-96.9209,-104.9903,-83.0458,-85.6681,-76.2746,-72.6377,-95.3698,-86.1581,-81.6557,-115.1391,-118.2426,-85.7585,-80.1646,-86.7816,-89.0557,-74.006,-81.3789,-75.1652,-111.5241,-79.9959,-122.6784,-79.2151,-76.861,-79.9414,-121.4944,-117.1611,-122.4194,-122.3328,-81.1637,-117.4235,-90.1994,-76.1474,-82.4588,-106.2549],\"y\":[42.65258,33.7488,39.1776,43.615,42.3601,43.0215,35.2271,41.8781,39.431,39.9612,32.7079,39.7392,42.3314,42.9634,40.8411,41.9325,29.7604,39.7684,30.3322,36.1716,34.0549,38.2527,25.9421,36.1627,30.3237,40.7128,28.5384,39.9526,32.8512,40.4406,45.5152,35.9261,37.1958,37.271,38.5816,32.7157,37.7749,47.6061,33.8361,47.658,38.627,43.0481,27.9517,33.0304],\"z\":[1.5610355029585798,1.337958579881657,1.5342307692307693,1.3481360946745562,1.5308875739644972,1.5168343195266274,1.60603550295858,1.5567751479289942,1.2092011834319527,1.2527810650887574,1.0855917159763313,1.2185798816568048,1.276094674556213,1.505,1.5132840236686391,1.818639053254438,1.0479289940828402,1.3139940828402368,1.5109467455621302,1.3809171597633136,1.2160059171597632,1.2866863905325443,1.428491124260355,1.2121005917159764,1.304792899408284,1.7275739644970414,1.5062130177514794,1.6321301775147927,1.2244378698224851,1.364319526627219,1.3177218934911241,1.5551183431952662,1.2913313609467456,1.2479289940828402,1.6215680473372782,1.3981656804733726,1.804201183431953,1.4425739644970414,1.403284023668639,1.4455917159763314,1.430621301775148,1.5203254437869822,1.4088461538461539,1.2617014925373136],\"type\":\"scatter3d\"}],                        {\"template\":{\"data\":{\"histogram2dcontour\":[{\"type\":\"histogram2dcontour\",\"colorbar\":{\"outlinewidth\":0,\"ticks\":\"\"},\"colorscale\":[[0.0,\"#0d0887\"],[0.1111111111111111,\"#46039f\"],[0.2222222222222222,\"#7201a8\"],[0.3333333333333333,\"#9c179e\"],[0.4444444444444444,\"#bd3786\"],[0.5555555555555556,\"#d8576b\"],[0.6666666666666666,\"#ed7953\"],[0.7777777777777778,\"#fb9f3a\"],[0.8888888888888888,\"#fdca26\"],[1.0,\"#f0f921\"]]}],\"choropleth\":[{\"type\":\"choropleth\",\"colorbar\":{\"outlinewidth\":0,\"ticks\":\"\"}}],\"histogram2d\":[{\"type\":\"histogram2d\",\"colorbar\":{\"outlinewidth\":0,\"ticks\":\"\"},\"colorscale\":[[0.0,\"#0d0887\"],[0.1111111111111111,\"#46039f\"],[0.2222222222222222,\"#7201a8\"],[0.3333333333333333,\"#9c179e\"],[0.4444444444444444,\"#bd3786\"],[0.5555555555555556,\"#d8576b\"],[0.6666666666666666,\"#ed7953\"],[0.7777777777777778,\"#fb9f3a\"],[0.8888888888888888,\"#fdca26\"],[1.0,\"#f0f921\"]]}],\"heatmap\":[{\"type\":\"heatmap\",\"colorbar\":{\"outlinewidth\":0,\"ticks\":\"\"},\"colorscale\":[[0.0,\"#0d0887\"],[0.1111111111111111,\"#46039f\"],[0.2222222222222222,\"#7201a8\"],[0.3333333333333333,\"#9c179e\"],[0.4444444444444444,\"#bd3786\"],[0.5555555555555556,\"#d8576b\"],[0.6666666666666666,\"#ed7953\"],[0.7777777777777778,\"#fb9f3a\"],[0.8888888888888888,\"#fdca26\"],[1.0,\"#f0f921\"]]}],\"heatmapgl\":[{\"type\":\"heatmapgl\",\"colorbar\":{\"outlinewidth\":0,\"ticks\":\"\"},\"colorscale\":[[0.0,\"#0d0887\"],[0.1111111111111111,\"#46039f\"],[0.2222222222222222,\"#7201a8\"],[0.3333333333333333,\"#9c179e\"],[0.4444444444444444,\"#bd3786\"],[0.5555555555555556,\"#d8576b\"],[0.6666666666666666,\"#ed7953\"],[0.7777777777777778,\"#fb9f3a\"],[0.8888888888888888,\"#fdca26\"],[1.0,\"#f0f921\"]]}],\"contourcarpet\":[{\"type\":\"contourcarpet\",\"colorbar\":{\"outlinewidth\":0,\"ticks\":\"\"}}],\"contour\":[{\"type\":\"contour\",\"colorbar\":{\"outlinewidth\":0,\"ticks\":\"\"},\"colorscale\":[[0.0,\"#0d0887\"],[0.1111111111111111,\"#46039f\"],[0.2222222222222222,\"#7201a8\"],[0.3333333333333333,\"#9c179e\"],[0.4444444444444444,\"#bd3786\"],[0.5555555555555556,\"#d8576b\"],[0.6666666666666666,\"#ed7953\"],[0.7777777777777778,\"#fb9f3a\"],[0.8888888888888888,\"#fdca26\"],[1.0,\"#f0f921\"]]}],\"surface\":[{\"type\":\"surface\",\"colorbar\":{\"outlinewidth\":0,\"ticks\":\"\"},\"colorscale\":[[0.0,\"#0d0887\"],[0.1111111111111111,\"#46039f\"],[0.2222222222222222,\"#7201a8\"],[0.3333333333333333,\"#9c179e\"],[0.4444444444444444,\"#bd3786\"],[0.5555555555555556,\"#d8576b\"],[0.6666666666666666,\"#ed7953\"],[0.7777777777777778,\"#fb9f3a\"],[0.8888888888888888,\"#fdca26\"],[1.0,\"#f0f921\"]]}],\"mesh3d\":[{\"type\":\"mesh3d\",\"colorbar\":{\"outlinewidth\":0,\"ticks\":\"\"}}],\"scatter\":[{\"fillpattern\":{\"fillmode\":\"overlay\",\"size\":10,\"solidity\":0.2},\"type\":\"scatter\"}],\"parcoords\":[{\"type\":\"parcoords\",\"line\":{\"colorbar\":{\"outlinewidth\":0,\"ticks\":\"\"}}}],\"scatterpolargl\":[{\"type\":\"scatterpolargl\",\"marker\":{\"colorbar\":{\"outlinewidth\":0,\"ticks\":\"\"}}}],\"bar\":[{\"error_x\":{\"color\":\"#2a3f5f\"},\"error_y\":{\"color\":\"#2a3f5f\"},\"marker\":{\"line\":{\"color\":\"#E5ECF6\",\"width\":0.5},\"pattern\":{\"fillmode\":\"overlay\",\"size\":10,\"solidity\":0.2}},\"type\":\"bar\"}],\"scattergeo\":[{\"type\":\"scattergeo\",\"marker\":{\"colorbar\":{\"outlinewidth\":0,\"ticks\":\"\"}}}],\"scatterpolar\":[{\"type\":\"scatterpolar\",\"marker\":{\"colorbar\":{\"outlinewidth\":0,\"ticks\":\"\"}}}],\"histogram\":[{\"marker\":{\"pattern\":{\"fillmode\":\"overlay\",\"size\":10,\"solidity\":0.2}},\"type\":\"histogram\"}],\"scattergl\":[{\"type\":\"scattergl\",\"marker\":{\"colorbar\":{\"outlinewidth\":0,\"ticks\":\"\"}}}],\"scatter3d\":[{\"type\":\"scatter3d\",\"line\":{\"colorbar\":{\"outlinewidth\":0,\"ticks\":\"\"}},\"marker\":{\"colorbar\":{\"outlinewidth\":0,\"ticks\":\"\"}}}],\"scattermapbox\":[{\"type\":\"scattermapbox\",\"marker\":{\"colorbar\":{\"outlinewidth\":0,\"ticks\":\"\"}}}],\"scatterternary\":[{\"type\":\"scatterternary\",\"marker\":{\"colorbar\":{\"outlinewidth\":0,\"ticks\":\"\"}}}],\"scattercarpet\":[{\"type\":\"scattercarpet\",\"marker\":{\"colorbar\":{\"outlinewidth\":0,\"ticks\":\"\"}}}],\"carpet\":[{\"aaxis\":{\"endlinecolor\":\"#2a3f5f\",\"gridcolor\":\"white\",\"linecolor\":\"white\",\"minorgridcolor\":\"white\",\"startlinecolor\":\"#2a3f5f\"},\"baxis\":{\"endlinecolor\":\"#2a3f5f\",\"gridcolor\":\"white\",\"linecolor\":\"white\",\"minorgridcolor\":\"white\",\"startlinecolor\":\"#2a3f5f\"},\"type\":\"carpet\"}],\"table\":[{\"cells\":{\"fill\":{\"color\":\"#EBF0F8\"},\"line\":{\"color\":\"white\"}},\"header\":{\"fill\":{\"color\":\"#C8D4E3\"},\"line\":{\"color\":\"white\"}},\"type\":\"table\"}],\"barpolar\":[{\"marker\":{\"line\":{\"color\":\"#E5ECF6\",\"width\":0.5},\"pattern\":{\"fillmode\":\"overlay\",\"size\":10,\"solidity\":0.2}},\"type\":\"barpolar\"}],\"pie\":[{\"automargin\":true,\"type\":\"pie\"}]},\"layout\":{\"autotypenumbers\":\"strict\",\"colorway\":[\"#636efa\",\"#EF553B\",\"#00cc96\",\"#ab63fa\",\"#FFA15A\",\"#19d3f3\",\"#FF6692\",\"#B6E880\",\"#FF97FF\",\"#FECB52\"],\"font\":{\"color\":\"#2a3f5f\"},\"hovermode\":\"closest\",\"hoverlabel\":{\"align\":\"left\"},\"paper_bgcolor\":\"white\",\"plot_bgcolor\":\"#E5ECF6\",\"polar\":{\"bgcolor\":\"#E5ECF6\",\"angularaxis\":{\"gridcolor\":\"white\",\"linecolor\":\"white\",\"ticks\":\"\"},\"radialaxis\":{\"gridcolor\":\"white\",\"linecolor\":\"white\",\"ticks\":\"\"}},\"ternary\":{\"bgcolor\":\"#E5ECF6\",\"aaxis\":{\"gridcolor\":\"white\",\"linecolor\":\"white\",\"ticks\":\"\"},\"baxis\":{\"gridcolor\":\"white\",\"linecolor\":\"white\",\"ticks\":\"\"},\"caxis\":{\"gridcolor\":\"white\",\"linecolor\":\"white\",\"ticks\":\"\"}},\"coloraxis\":{\"colorbar\":{\"outlinewidth\":0,\"ticks\":\"\"}},\"colorscale\":{\"sequential\":[[0.0,\"#0d0887\"],[0.1111111111111111,\"#46039f\"],[0.2222222222222222,\"#7201a8\"],[0.3333333333333333,\"#9c179e\"],[0.4444444444444444,\"#bd3786\"],[0.5555555555555556,\"#d8576b\"],[0.6666666666666666,\"#ed7953\"],[0.7777777777777778,\"#fb9f3a\"],[0.8888888888888888,\"#fdca26\"],[1.0,\"#f0f921\"]],\"sequentialminus\":[[0.0,\"#0d0887\"],[0.1111111111111111,\"#46039f\"],[0.2222222222222222,\"#7201a8\"],[0.3333333333333333,\"#9c179e\"],[0.4444444444444444,\"#bd3786\"],[0.5555555555555556,\"#d8576b\"],[0.6666666666666666,\"#ed7953\"],[0.7777777777777778,\"#fb9f3a\"],[0.8888888888888888,\"#fdca26\"],[1.0,\"#f0f921\"]],\"diverging\":[[0,\"#8e0152\"],[0.1,\"#c51b7d\"],[0.2,\"#de77ae\"],[0.3,\"#f1b6da\"],[0.4,\"#fde0ef\"],[0.5,\"#f7f7f7\"],[0.6,\"#e6f5d0\"],[0.7,\"#b8e186\"],[0.8,\"#7fbc41\"],[0.9,\"#4d9221\"],[1,\"#276419\"]]},\"xaxis\":{\"gridcolor\":\"white\",\"linecolor\":\"white\",\"ticks\":\"\",\"title\":{\"standoff\":15},\"zerolinecolor\":\"white\",\"automargin\":true,\"zerolinewidth\":2},\"yaxis\":{\"gridcolor\":\"white\",\"linecolor\":\"white\",\"ticks\":\"\",\"title\":{\"standoff\":15},\"zerolinecolor\":\"white\",\"automargin\":true,\"zerolinewidth\":2},\"scene\":{\"xaxis\":{\"backgroundcolor\":\"#E5ECF6\",\"gridcolor\":\"white\",\"linecolor\":\"white\",\"showbackground\":true,\"ticks\":\"\",\"zerolinecolor\":\"white\",\"gridwidth\":2},\"yaxis\":{\"backgroundcolor\":\"#E5ECF6\",\"gridcolor\":\"white\",\"linecolor\":\"white\",\"showbackground\":true,\"ticks\":\"\",\"zerolinecolor\":\"white\",\"gridwidth\":2},\"zaxis\":{\"backgroundcolor\":\"#E5ECF6\",\"gridcolor\":\"white\",\"linecolor\":\"white\",\"showbackground\":true,\"ticks\":\"\",\"zerolinecolor\":\"white\",\"gridwidth\":2}},\"shapedefaults\":{\"line\":{\"color\":\"#2a3f5f\"}},\"annotationdefaults\":{\"arrowcolor\":\"#2a3f5f\",\"arrowhead\":0,\"arrowwidth\":1},\"geo\":{\"bgcolor\":\"white\",\"landcolor\":\"#E5ECF6\",\"subunitcolor\":\"white\",\"showland\":true,\"showlakes\":true,\"lakecolor\":\"white\"},\"title\":{\"x\":0.05},\"mapbox\":{\"style\":\"light\"}}},\"title\":{\"text\":\"3D Map of Average Avocado Profit by Selected US Regions\"},\"scene\":{\"xaxis\":{\"title\":{\"text\":\"Longitude\"}},\"yaxis\":{\"title\":{\"text\":\"Latitude\"}},\"zaxis\":{\"title\":{\"text\":\"Average Price\"}}},\"autosize\":true},                        {\"responsive\": true}                    ).then(function(){\n",
       "                            \n",
       "var gd = document.getElementById('e38745c7-afe0-4efa-afa2-8039177015d7');\n",
       "var x = new MutationObserver(function (mutations, observer) {{\n",
       "        var display = window.getComputedStyle(gd).display;\n",
       "        if (!display || display === 'none') {{\n",
       "            console.log([gd, 'removed!']);\n",
       "            Plotly.purge(gd);\n",
       "            observer.disconnect();\n",
       "        }}\n",
       "}});\n",
       "\n",
       "// Listen for the removal of the full notebook cells\n",
       "var notebookContainer = gd.closest('#notebook-container');\n",
       "if (notebookContainer) {{\n",
       "    x.observe(notebookContainer, {childList: true});\n",
       "}}\n",
       "\n",
       "// Listen for the clearing of the current output cell\n",
       "var outputEl = gd.closest('.output');\n",
       "if (outputEl) {{\n",
       "    x.observe(outputEl, {childList: true});\n",
       "}}\n",
       "\n",
       "                        })                };                });            </script>        </div>"
      ]
     },
     "metadata": {},
     "output_type": "display_data"
    }
   ],
   "source": [
    "import plotly.graph_objects as go\n",
    "\n",
    "#scaling factor\n",
    "merged_df['marker_size'] = merged_df['AveragePrice'] * 10\n",
    "\n",
    "# Create the 3D scatter plot\n",
    "fig = go.Figure(data=[go.Scatter3d(\n",
    "    x=merged_df['longitude'],\n",
    "    y=merged_df['latitude'],\n",
    "    z=merged_df['AveragePrice'],\n",
    "    mode='markers',\n",
    "    marker=dict(\n",
    "        size=merged_df['marker_size'],  \n",
    "        color=merged_df['AveragePrice'],  \n",
    "        colorscale='Viridis',\n",
    "        opacity=0.8\n",
    "    ),\n",
    "    text=merged_df['region']  # Hover text\n",
    ")])\n",
    "\n",
    "fig.update_layout(\n",
    "    title='3D Map of Average Avocado Profit by Selected US Regions',\n",
    "    scene=dict(\n",
    "        xaxis_title='Longitude',\n",
    "        yaxis_title='Latitude',\n",
    "        zaxis_title='Average Price'\n",
    "    ),\n",
    "    autosize=True,\n",
    ")\n",
    "\n",
    "fig.show()"
   ]
  },
  {
   "cell_type": "markdown",
   "metadata": {},
   "source": [
    "do based of regions 2dmap of us"
   ]
  },
  {
   "cell_type": "markdown",
   "metadata": {},
   "source": [
    "Regions:\n",
    "- California\n",
    "- West (WA, OR, ID, MT, WY, NV, UT, CO, AZ, NM)\n",
    "- Plains (ND, SD, MN, NE, IA, KS, MO)\n",
    "- Midsouth (KY, VA, TN, MD, NC, SC)\n",
    "- Northeast (WV, MD, DE, NJ, CN, RI, MA, VT, NH, NY, PA, ME)\n",
    "- Southeast (MS, AL, GA, FL)\n",
    "- South Central (OK, AR, TX, LA)\n",
    "- Great Lakes (WI, IL, IN, MI, OH)"
   ]
  },
  {
   "cell_type": "code",
   "execution_count": 27,
   "metadata": {},
   "outputs": [
    {
     "ename": "ModuleNotFoundError",
     "evalue": "No module named 'geopandas'",
     "output_type": "error",
     "traceback": [
      "\u001b[0;31m---------------------------------------------------------------------------\u001b[0m",
      "\u001b[0;31mModuleNotFoundError\u001b[0m                       Traceback (most recent call last)",
      "Cell \u001b[0;32mIn[27], line 2\u001b[0m\n\u001b[1;32m      1\u001b[0m \u001b[38;5;66;03m# install these libraries \u001b[39;00m\n\u001b[0;32m----> 2\u001b[0m \u001b[38;5;28;01mimport\u001b[39;00m \u001b[38;5;21;01mgeopandas\u001b[39;00m \u001b[38;5;28;01mas\u001b[39;00m \u001b[38;5;21;01mgpd\u001b[39;00m\n\u001b[1;32m      3\u001b[0m \u001b[38;5;28;01mimport\u001b[39;00m \u001b[38;5;21;01mplotly\u001b[39;00m\u001b[38;5;21;01m.\u001b[39;00m\u001b[38;5;21;01mexpress\u001b[39;00m \u001b[38;5;28;01mas\u001b[39;00m \u001b[38;5;21;01mpx\u001b[39;00m\n\u001b[1;32m      5\u001b[0m \u001b[38;5;66;03m# Step 1: Define your state to region mapping\u001b[39;00m\n",
      "\u001b[0;31mModuleNotFoundError\u001b[0m: No module named 'geopandas'"
     ]
    }
   ],
   "source": [
    "# install these libraries \n",
    "import geopandas as gpd\n",
    "import plotly.express as px\n",
    "\n",
    "# Step 1: Define your state to region mapping\n",
    "state_to_region = {\n",
    "    'CA': 'California',\n",
    "    # Add all states to their respective regions\n",
    "}\n",
    "\n",
    "# Step 2: Map each entry in your avocado dataset to one of these regions\n",
    "avocado_df['region'] = avocado_df['state'].map(state_to_region)\n",
    "\n",
    "# Step 3: Aggregate the sales data by these new regions\n",
    "total_volume_by_custom_region = avocado_df.groupby('region')['Total Volume'].sum().reset_index()\n",
    "\n",
    "# Load a GeoDataFrame with the USA administrative areas shapefile\n",
    "gdf_usa = gpd.read_file('#add path')\n",
    "\n",
    "# Step 4: Merge the aggregated data with the GeoDataFrame based on your custom regions\n",
    "\n",
    "merged_gdf = gdf_usa.merge(total_volume_by_custom_region, left_on='NAME', right_on='region', how='left')\n",
    "\n",
    "# Replace NaN values with 0 for regions that do not have matching avocado data\n",
    "merged_gdf['Total Volume'].fillna(0, inplace=True)\n",
    "\n",
    "# Step 5: Generate the 2D map using Plotly\n",
    "fig = px.choropleth(merged_gdf,\n",
    "                    geojson=merged_gdf.geometry,\n",
    "                    locations=merged_gdf.index,\n",
    "                    color='Total Volume',\n",
    "                    color_continuous_scale='Viridis',\n",
    "                    scope=\"usa\",\n",
    "                    labels={'Total Volume': 'Total Avocado Volume'},\n",
    "                    hover_data=['Total Volume'])\n",
    "\n",
    "# Enhance the layout\n",
    "fig.update_layout(margin={\"r\":0,\"t\":0,\"l\":0,\"b\":0})\n",
    "\n",
    "# Show the figure\n",
    "fig.show()"
   ]
  }
 ],
 "metadata": {
  "kernelspec": {
   "display_name": "base",
   "language": "python",
   "name": "python3"
  },
  "language_info": {
   "codemirror_mode": {
    "name": "ipython",
    "version": 3
   },
   "file_extension": ".py",
   "mimetype": "text/x-python",
   "name": "python",
   "nbconvert_exporter": "python",
   "pygments_lexer": "ipython3",
   "version": "3.11.7"
  }
 },
 "nbformat": 4,
 "nbformat_minor": 2
}
