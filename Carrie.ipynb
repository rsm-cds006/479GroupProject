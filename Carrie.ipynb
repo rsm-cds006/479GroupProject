{
 "cells": [
  {
   "cell_type": "code",
   "execution_count": 1,
   "metadata": {},
   "outputs": [
    {
     "ename": "ModuleNotFoundError",
     "evalue": "No module named 'geopandas'",
     "output_type": "error",
     "traceback": [
      "\u001b[0;31m---------------------------------------------------------------------------\u001b[0m",
      "\u001b[0;31mModuleNotFoundError\u001b[0m                       Traceback (most recent call last)",
      "Cell \u001b[0;32mIn[1], line 5\u001b[0m\n\u001b[1;32m      3\u001b[0m \u001b[38;5;28;01mimport\u001b[39;00m \u001b[38;5;21;01mmatplotlib\u001b[39;00m\u001b[38;5;21;01m.\u001b[39;00m\u001b[38;5;21;01mpyplot\u001b[39;00m \u001b[38;5;28;01mas\u001b[39;00m \u001b[38;5;21;01mplt\u001b[39;00m\n\u001b[1;32m      4\u001b[0m \u001b[38;5;28;01mfrom\u001b[39;00m \u001b[38;5;21;01mmpl_toolkits\u001b[39;00m\u001b[38;5;21;01m.\u001b[39;00m\u001b[38;5;21;01mmplot3d\u001b[39;00m \u001b[38;5;28;01mimport\u001b[39;00m Axes3D\n\u001b[0;32m----> 5\u001b[0m \u001b[38;5;28;01mimport\u001b[39;00m \u001b[38;5;21;01mgeopandas\u001b[39;00m \u001b[38;5;28;01mas\u001b[39;00m \u001b[38;5;21;01mgpd\u001b[39;00m\n\u001b[1;32m      6\u001b[0m \u001b[38;5;28;01mimport\u001b[39;00m \u001b[38;5;21;01mplotly\u001b[39;00m\u001b[38;5;21;01m.\u001b[39;00m\u001b[38;5;21;01mexpress\u001b[39;00m \u001b[38;5;28;01mas\u001b[39;00m \u001b[38;5;21;01mpx\u001b[39;00m\n\u001b[1;32m      7\u001b[0m \u001b[38;5;28;01mimport\u001b[39;00m \u001b[38;5;21;01mplotly\u001b[39;00m\u001b[38;5;21;01m.\u001b[39;00m\u001b[38;5;21;01mgraph_objects\u001b[39;00m \u001b[38;5;28;01mas\u001b[39;00m \u001b[38;5;21;01mgo\u001b[39;00m\n",
      "\u001b[0;31mModuleNotFoundError\u001b[0m: No module named 'geopandas'"
     ]
    }
   ],
   "source": [
    "import pandas as pd\n",
    "import numpy as np\n",
    "import matplotlib.pyplot as plt\n",
    "from mpl_toolkits.mplot3d import Axes3D\n",
    "import geopandas as gpd\n",
    "import plotly.express as px\n",
    "import plotly.graph_objects as go"
   ]
  },
  {
   "cell_type": "markdown",
   "metadata": {},
   "source": [
    "do based of regions 2dmap of us"
   ]
  },
  {
   "cell_type": "markdown",
   "metadata": {},
   "source": [
    "Regions:\n",
    "- California\n",
    "- West (WA, OR, ID, MT, WY, NV, UT, CO, AZ, NM)\n",
    "- Plains (ND, SD, MN, NE, IA, KS, MO)\n",
    "- Midsouth (KY, VA, TN, MD, NC, SC)\n",
    "- Northeast (WV, MD, DE, NJ, CN, RI, MA, VT, NH, NY, PA, ME)\n",
    "- Southeast (MS, AL, GA, FL)\n",
    "- South Central (OK, AR, TX, LA)\n",
    "- Great Lakes (WI, IL, IN, MI, OH)"
   ]
  },
  {
   "cell_type": "code",
   "execution_count": null,
   "metadata": {},
   "outputs": [],
   "source": [
    "# Load a GeoDataFrame with the USA administrative areas shapefile\n",
    "gdf_usa = gpd.read_file('data/cb_2018_us_state_500k.zip')\n",
    "print(gdf_usa.columns)\n",
    "gdf_usa.head(5)\n"
   ]
  },
  {
   "cell_type": "code",
   "execution_count": null,
   "metadata": {},
   "outputs": [],
   "source": [
    "hasdata_df = pd.read_csv(\"data/hasstotalmetrics.csv\")\n",
    "print(hasdata_df.columns)\n",
    "hasdata_df.head(10)"
   ]
  },
  {
   "cell_type": "code",
   "execution_count": null,
   "metadata": {},
   "outputs": [],
   "source": [
    "# Now, sum up '2023Units' for each region across all periods\n",
    "total_volume_by_region = hasdata_df.groupby('Geography')['Total2023Units'].sum().reset_index()\n",
    "# Display the aggregated data to check it\n",
    "print(total_volume_by_region)"
   ]
  },
  {
   "cell_type": "code",
   "execution_count": null,
   "metadata": {},
   "outputs": [],
   "source": [
    "import geopandas as gpd\n",
    "import plotly.express as px\n",
    "\n",
    "# Load the state-level GeoDataFrame\n",
    "gdf_states = gpd.read_file('data/cb_2018_us_state_500k.zip')\n",
    "\n",
    "# Define your state to region mapping correctly\n",
    "state_to_region = {\n",
    "    'California': 'California',\n",
    "    'Washington': 'West', 'Oregon': 'West', 'Idaho': 'West', 'Montana': 'West', 'Wyoming': 'West',\n",
    "    'Nevada': 'West', 'Utah': 'West', 'Colorado': 'West', 'Arizona': 'West', 'New Mexico': 'West',\n",
    "    'North Dakota': 'Plains', 'South Dakota': 'Plains', 'Minnesota': 'Plains', 'Nebraska': 'Plains',\n",
    "    'Iowa': 'Plains', 'Kansas': 'Plains', 'Missouri': 'Plains',\n",
    "    'Kentucky': 'Midsouth', 'Virginia': 'Midsouth', 'Tennessee': 'Midsouth', 'Maryland': 'Midsouth',\n",
    "    'North Carolina': 'Midsouth', 'South Carolina': 'Midsouth',\n",
    "    'West Virginia': 'Northeast', 'Delaware': 'Northeast', 'New Jersey': 'Northeast', 'New York': 'Northeast',\n",
    "    'Connecticut': 'Northeast', 'Rhode Island': 'Northeast', 'Massachusetts': 'Northeast', 'Vermont': 'Northeast',\n",
    "    'New Hampshire': 'Northeast', 'Pennsylvania': 'Northeast', 'Maine': 'Northeast',\n",
    "    'Mississippi': 'Southeast', 'Alabama': 'Southeast', 'Georgia': 'Southeast', 'Florida': 'Southeast',\n",
    "    'Oklahoma': 'South Central', 'Arkansas': 'South Central', 'Texas': 'South Central', 'Louisiana': 'South Central',\n",
    "    'Wisconsin': 'Great Lakes', 'Illinois': 'Great Lakes', 'Indiana': 'Great Lakes', 'Ohio': 'Great Lakes', 'Michigan': 'Great Lakes'\n",
    "}\n",
    "\n",
    "# Map each state in the GeoDataFrame to a region\n",
    "gdf_states['Region'] = gdf_states['NAME'].apply(lambda x: state_to_region.get(x))\n",
    "\n",
    "# Dissolve states into regions\n",
    "gdf_regions = gdf_states.dissolve(by='Region', aggfunc='sum').reset_index()\n",
    "\n",
    "# Ensure your avocado data (hasdata_df) is loaded correctly and structured properly\n",
    "# Merge the GeoDataFrame with your avocado sales data\n",
    "merged_gdf = gdf_regions.merge(hasdata_df, left_on='Region', right_on='Geography', how='left')\n",
    "\n",
    "# Replace NaN values with 0 for regions that do not have matching avocado data\n",
    "merged_gdf['Total2023Units'].fillna(0, inplace=True)\n",
    "\n",
    "# Ensure the geometry is in a format that Plotly can use\n",
    "geojson = merged_gdf.geometry.__geo_interface__\n",
    "\n",
    "# Generate the choropleth map using Plotly\n",
    "fig = px.choropleth(merged_gdf,\n",
    "                    geojson=geojson,\n",
    "                    locations=merged_gdf.index,\n",
    "                    color='Total2023Units',\n",
    "                    color_continuous_scale='Viridis',\n",
    "                    scope=\"usa\",\n",
    "                    labels={'Total2023Units': 'Total Avocado Volume 2023'})\n",
    "\n",
    "# Enhance the layout\n",
    "fig.update_layout(margin={\"r\":0,\"t\":0,\"l\":0,\"b\":0})\n",
    "fig.update_geos(fitbounds=\"locations\")\n",
    "\n",
    "# Show the figure\n",
    "fig.show()"
   ]
  }
 ],
 "metadata": {
  "kernelspec": {
   "display_name": "base",
   "language": "python",
   "name": "python3"
  },
  "language_info": {
   "codemirror_mode": {
    "name": "ipython",
    "version": 3
   },
   "file_extension": ".py",
   "mimetype": "text/x-python",
   "name": "python",
   "nbconvert_exporter": "python",
   "pygments_lexer": "ipython3",
   "version": "3.11.7"
  }
 },
 "nbformat": 4,
 "nbformat_minor": 2
}
